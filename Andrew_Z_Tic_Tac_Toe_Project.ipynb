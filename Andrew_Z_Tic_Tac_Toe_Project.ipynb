{
  "nbformat": 4,
  "nbformat_minor": 0,
  "metadata": {
    "colab": {
      "provenance": [],
      "authorship_tag": "ABX9TyPCIcdXXOdTZlr0Dbl0rqKh",
      "include_colab_link": true
    },
    "kernelspec": {
      "name": "python3",
      "display_name": "Python 3"
    },
    "language_info": {
      "name": "python"
    }
  },
  "cells": [
    {
      "cell_type": "markdown",
      "metadata": {
        "id": "view-in-github",
        "colab_type": "text"
      },
      "source": [
        "<a href=\"https://colab.research.google.com/github/yamdru/Hack-The-Hood-Hustle/blob/main/Andrew_Z_Tic_Tac_Toe_Project.ipynb\" target=\"_parent\"><img src=\"https://colab.research.google.com/assets/colab-badge.svg\" alt=\"Open In Colab\"/></a>"
      ]
    },
    {
      "cell_type": "code",
      "execution_count": 109,
      "metadata": {
        "id": "PMgbvcCwr6kg",
        "colab": {
          "base_uri": "https://localhost:8080/"
        },
        "outputId": "af95b8e6-0351-4243-9647-81ad203012ee"
      },
      "outputs": [
        {
          "output_type": "stream",
          "name": "stdout",
          "text": [
            "This is the board:\n",
            "1, 2, 3\n",
            "4, 5, 6\n",
            "7, 8, 9\n",
            "Please choose a side: X or O? x\n",
            "Player one will be 'X'. \n",
            "Player two will be 'O'. \n",
            "Player X will go first.\n",
            "Where would you like to place the marker? 1\n",
            "Your marker is now on 1. \n",
            "X, [], [] \n",
            "[], [], [] \n",
            "[], [], [] \n"
          ]
        }
      ],
      "source": [
        "import random\n",
        "\n",
        "class TicTacToe:\n",
        "  def __init__(self):\n",
        "    self.board = [\"1\", \"2\", \"3\",\n",
        "                  \"4\", \"5\", \"6\",\n",
        "                  \"7\", \"8\", \"9\"]\n",
        "    self.current_winner = \"\"\n",
        "    self.first_player = \"\"\n",
        "    self.player_input_one = \"\"\n",
        "    self.player_input_two = \"\"\n",
        "    self.first_marker = \"\"\n",
        "\n",
        "  def display_board(self):\n",
        "    print(\"This is the board:\")\n",
        "    print(f\"{self.board[0]}, {self.board[1]}, {self.board[2]}\")\n",
        "    print(f\"{self.board[3]}, {self.board[4]}, {self.board[5]}\")\n",
        "    print(f\"{self.board[6]}, {self.board[7]}, {self.board[8]}\")\n",
        "\n",
        "  def player_input(self):\n",
        "    while self.player_input_one != \"X\" and self.player_input_one !=\"O\":\n",
        "      self.player_input_one = input(\"Please choose a side: X or O? \").upper()\n",
        "    if self.player_input_one == \"X\":\n",
        "      print(\"Player one will be 'X'. \")\n",
        "      print(\"Player two will be 'O'. \")\n",
        "      self.player_input_two == \"O\"\n",
        "    elif self.player_input_one == \"O\":\n",
        "      print(\"Player one will be 'O'. \")\n",
        "      print(\"Player two will be 'X'. \")\n",
        "      self.player_input_two == \"X\"\n",
        "\n",
        "  def choose_first(self):\n",
        "    self.choice = random.randint(0, 1)\n",
        "    if self.choice == 0:\n",
        "      self.first_player = self.player_input_one\n",
        "    else:\n",
        "      self.first_player = self.player_input_two\n",
        "    print(f\"Player {self.first_player} will go first.\")\n",
        "\n",
        "  def player_choice(self):\n",
        "    self.first_marker = int(input(\"Where would you like to place the marker? \"))\n",
        "    if self.first_marker == 1:\n",
        "      print(\"Your marker is now on 1. \")\n",
        "      print(f\"{self.first_player}, [], [] \")\n",
        "      print(f\"[], [], [] \")\n",
        "      print(f\"[], [], [] \")\n",
        "    elif self.first_marker == 2:\n",
        "      print(\"Your marker is now on 2. \")\n",
        "      print(f\"[], {self.first_player}, [] \")\n",
        "      print(f\"[], [], [] \")\n",
        "      print(f\"[], [], [] \")\n",
        "    elif self.first_marker == 3:\n",
        "      print(\"Your marker is now on 3. \")\n",
        "      print(f\"[], [], {self.first_player} \")\n",
        "      print(f\"[], [], [] \")\n",
        "      print(f\"[], [], [] \")\n",
        "    else:\n",
        "      self.first_marker = input(\"Where would you like to place the marker? \")\n",
        "\n",
        "\n",
        "\n",
        "  #def place_marker(self):\n",
        "\n",
        "\n",
        "\n",
        "Run_Game = TicTacToe()\n",
        "Run_Game.display_board()\n",
        "Run_Game.player_input()\n",
        "Run_Game.choose_first()\n",
        "Run_Game.player_choice()"
      ]
    }
  ]
}