{
  "nbformat": 4,
  "nbformat_minor": 0,
  "metadata": {
    "colab": {
      "provenance": [],
      "authorship_tag": "ABX9TyM3beXNEQemNaDSlQEzG3Du",
      "include_colab_link": true
    },
    "kernelspec": {
      "name": "python3",
      "display_name": "Python 3"
    },
    "language_info": {
      "name": "python"
    }
  },
  "cells": [
    {
      "cell_type": "markdown",
      "metadata": {
        "id": "view-in-github",
        "colab_type": "text"
      },
      "source": [
        "<a href=\"https://colab.research.google.com/github/yamdru/Hack-The-Hood-Hustle/blob/main/week_3_data_structures.ipynb\" target=\"_parent\"><img src=\"https://colab.research.google.com/assets/colab-badge.svg\" alt=\"Open In Colab\"/></a>"
      ]
    },
    {
      "cell_type": "code",
      "execution_count": null,
      "metadata": {
        "id": "XzjummQmLirm"
      },
      "outputs": [],
      "source": []
    },
    {
      "cell_type": "markdown",
      "source": [
        "# Build a Dictionary\n",
        "## Dictionary will hold lists as values\n"
      ],
      "metadata": {
        "id": "ovSZcHCBL6Wf"
      }
    },
    {
      "cell_type": "code",
      "source": [
        "# 1. Make the Dictionary\n",
        "food_preferences = {\n",
        "    \"yoline\" : {\n",
        "      \"likes\": [\"pizza\", \"ramen\", \"pies\"],\n",
        "      \"dislikes\": [\"okra\", \"eggplant\"],\n",
        "    },\n",
        "    \"andrew\": {\n",
        "        \"likes\": [\"tofu\", \"strawberries\", \"cheesecake\"],\n",
        "        \"dislikes\" : [\"cilantro\", \"onions\"]\n",
        "    },\n",
        "    \"samuel\": {\n",
        "        \"likes\": [\"chicken\", \"noodles\", \"fruits\"],\n",
        "        \"dislikes\": [\"coconut\", \"eggplant\"]\n",
        "    }\n",
        "}\n",
        "print(food_preferences)\n",
        "\n",
        "# 2. Go over how to access deeply nested data\n",
        "\n",
        "print(\"Here is the second thing I like to eat.\")\n",
        "print(food_preferences[\"andrew\"][\"likes\"][1])\n",
        "\n",
        "# 3. Yoline likes mac and cheese, add that to her list.\n",
        "# Use append.\n",
        "food_preferences[\"yoline\"][\"likes\"].append(\"mac and cheese\")\n",
        "print(\"new list: \")\n",
        "print(food_preferences[\"yoline\"][\"likes\"])\n",
        "\n",
        "# 4. Yoline is okay with okra, so use pop.\n",
        "food_preferences[\"yoline\"][\"dislikes\"].pop(0)\n",
        "print(\"new list: \")\n",
        "print(food_preferences[\"yoline\"][\"dislikes\"])"
      ],
      "metadata": {
        "colab": {
          "base_uri": "https://localhost:8080/"
        },
        "collapsed": true,
        "id": "Ov0UY8ORL_eD",
        "outputId": "69af5293-776e-4d26-ff6a-814ae19e10ec"
      },
      "execution_count": 24,
      "outputs": [
        {
          "output_type": "stream",
          "name": "stdout",
          "text": [
            "{'yoline': {'likes': ['pizza', 'ramen', 'pies'], 'dislikes': ['okra', 'eggplant']}, 'andrew': {'likes': ['tofu', 'strawberries', 'cheesecake'], 'dislikes': ['cilantro', 'onions']}, 'samuel': {'likes': ['chicken', 'noodles', 'fruits'], 'dislikes': ['coconut', 'eggplant']}}\n",
            "Here is the second thing I like to eat.\n",
            "strawberries\n",
            "new list: \n",
            "['pizza', 'ramen', 'pies', 'mac and cheese']\n",
            "new list: \n",
            "['eggplant']\n"
          ]
        }
      ]
    },
    {
      "cell_type": "markdown",
      "source": [
        "# Independent Work - Try it Yourself!"
      ],
      "metadata": {
        "id": "YCBmnxktTjYZ"
      }
    },
    {
      "cell_type": "code",
      "source": [
        "meal_options = {\n",
        "    \"breakfast\": {\n",
        "        \"food\": [\"pancakes\", \"waffles\", \"fruit\"],\n",
        "        \"drinks\": [\"coffee\", \"black tea\", \"smoothie\", \"water\"]\n",
        "    },\n",
        "    \"lunch\": {\n",
        "        \"food\": [\"sandwich\", \"dumplings\"],\n",
        "        \"drinks\": [\"water\", \"green tea\", \"soda\"]\n",
        "    },\n",
        "    \"dinner\": {\n",
        "        \"food\": [\"ramen\", \"risotto\"],\n",
        "        \"drinks\": [\"water\", \"chamomile tea\"]\n",
        "    }\n",
        "}\n",
        "\n",
        "# 1. print all the meal options\n",
        "print(\"Here are the meal options.\")\n",
        "print(meal_options)\n",
        "# 2. print only the breakfast options\n",
        "print(\"Here are the breakfast options.\")\n",
        "print(meal_options[\"breakfast\"])\n",
        "# 3. print the dinner food options\n",
        "print(\"Here are the dinner food options.\")\n",
        "print(meal_options[\"dinner\"][\"food\"])\n",
        "# 4. print the lunch drinks options\n",
        "print(\"Here are the lunch drinks options.\")\n",
        "print(meal_options[\"lunch\"][\"drinks\"])\n",
        "# 5. print waffles (by accessing the dictionaries and list)\n",
        "print(meal_options[\"breakfast\"][\"food\"][1])\n",
        "# 6. print dumplings (by accessing the dictionaries and list)\n",
        "print(meal_options[\"lunch\"][\"food\"][1])\n",
        "# 7. print chamomile tea (by accessing the dictionaries and list)\n",
        "print(meal_options[\"dinner\"][\"drinks\"][1])\n",
        "# 8. remove green tea from the lunch drinks\n",
        "meal_options[\"lunch\"][\"drinks\"].pop(1)\n",
        "print(\"Here are the new lunch drinks options: \")\n",
        "print(meal_options[\"lunch\"][\"drinks\"])\n",
        "# 9. add pizza to dinner foods\n",
        "meal_options[\"dinner\"][\"food\"].append(\"pizza\")\n",
        "print(\"Here are the new dinner meal options: \")\n",
        "print(meal_options[\"dinner\"][\"food\"])"
      ],
      "metadata": {
        "colab": {
          "base_uri": "https://localhost:8080/"
        },
        "id": "heqnfgPgUrg2",
        "outputId": "eb971d84-14c1-4700-edfa-4281448be2aa"
      },
      "execution_count": 39,
      "outputs": [
        {
          "output_type": "stream",
          "name": "stdout",
          "text": [
            "Here are the meal options.\n",
            "{'breakfast': {'food': ['pancakes', 'waffles', 'fruit'], 'drinks': ['coffee', 'black tea', 'smoothie', 'water']}, 'lunch': {'food': ['sandwich', 'dumplings'], 'drinks': ['water', 'green tea', 'soda']}, 'dinner': {'food': ['ramen', 'risotto'], 'drinks': ['water', 'chamomile tea']}}\n",
            "Here are the breakfast options.\n",
            "{'food': ['pancakes', 'waffles', 'fruit'], 'drinks': ['coffee', 'black tea', 'smoothie', 'water']}\n",
            "Here are the dinner food options.\n",
            "['ramen', 'risotto']\n",
            "Here are the lunch drinks options.\n",
            "['water', 'green tea', 'soda']\n",
            "waffles\n",
            "dumplings\n",
            "chamomile tea\n",
            "Here are the new lunch drinks options: \n",
            "['water', 'soda']\n",
            "Here are the new dinner meal options: \n",
            "['ramen', 'risotto', 'pizza']\n"
          ]
        }
      ]
    }
  ]
}