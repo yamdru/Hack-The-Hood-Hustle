{
  "nbformat": 4,
  "nbformat_minor": 0,
  "metadata": {
    "colab": {
      "provenance": [],
      "authorship_tag": "ABX9TyN33/GF30tkVgc4ntY97ohu",
      "include_colab_link": true
    },
    "kernelspec": {
      "name": "python3",
      "display_name": "Python 3"
    },
    "language_info": {
      "name": "python"
    }
  },
  "cells": [
    {
      "cell_type": "markdown",
      "metadata": {
        "id": "view-in-github",
        "colab_type": "text"
      },
      "source": [
        "<a href=\"https://colab.research.google.com/github/yamdru/Hack-The-Hood-Hustle/blob/main/Assignment2.ipynb\" target=\"_parent\"><img src=\"https://colab.research.google.com/assets/colab-badge.svg\" alt=\"Open In Colab\"/></a>"
      ]
    },
    {
      "cell_type": "markdown",
      "source": [
        "# Lab Jun. 20"
      ],
      "metadata": {
        "id": "uitipo21Iu5b"
      }
    },
    {
      "cell_type": "markdown",
      "source": [
        "# Intro to Pseudo Code"
      ],
      "metadata": {
        "id": "mNPqKLBaMetA"
      }
    },
    {
      "cell_type": "markdown",
      "source": [
        "# The Rules to Define Variables\n",
        "1) Must start with a Letter or _Underscore\n",
        "\n",
        "2) Consists of Letters, Numbers and Underscores But it will not starts with a Number\n",
        "\n",
        "3) Variable names are case sensitive\n"
      ],
      "metadata": {
        "id": "pOwWIpCFNMOY"
      }
    },
    {
      "cell_type": "markdown",
      "source": [
        "### Psuedo code for my application\n",
        "I want to write a program that takes user input and prints it back to the screen.\n",
        "\n",
        "`First_name` the user's first name\n",
        "\n",
        "`Last_Name` the user's last name\n",
        "\n",
        "`Age` the user's age\n",
        "\n",
        "`Fav_Colour` the user's favourite colour\n",
        "\n",
        "`Fav_Sport` the user's favourite sport\n",
        "\n",
        "`Fav_Team` the user's favourite team\n",
        "\n",
        "use a 'built-in' process to take user's data.\n",
        "\n",
        "use a 'built-in' process to display user's data."
      ],
      "metadata": {
        "id": "039BsP_IPuei"
      }
    },
    {
      "cell_type": "markdown",
      "source": [
        "### Code for my application"
      ],
      "metadata": {
        "id": "6bzMlrzVQTf0"
      }
    },
    {
      "cell_type": "code",
      "source": [
        "First_Name = 'John'\n",
        "Last_Name = 'Connor'\n",
        "Age = 23\n",
        "Fav_Colour = 'Gray'\n",
        "Fav_Sport = 'Soccer'\n",
        "Fav_Team = 'Man U'"
      ],
      "metadata": {
        "id": "xBkEGwQRQh4C"
      },
      "execution_count": 10,
      "outputs": []
    },
    {
      "cell_type": "code",
      "source": [
        "print(First_Name)\n",
        "print(Last_Name)\n",
        "print(Age)\n",
        "print(Fav_Colour)\n",
        "print(Fav_Sport)\n",
        "print(Fav_Team)"
      ],
      "metadata": {
        "colab": {
          "base_uri": "https://localhost:8080/"
        },
        "id": "o32QPPvdQug-",
        "outputId": "5b9f8306-12d2-41ab-e1ef-b7d093200cc5"
      },
      "execution_count": 11,
      "outputs": [
        {
          "output_type": "stream",
          "name": "stdout",
          "text": [
            "John\n",
            "Connor\n",
            "23\n",
            "Gray\n",
            "Soccer\n",
            "Man U\n"
          ]
        }
      ]
    },
    {
      "cell_type": "code",
      "source": [
        "First_Name = input(\"What is your first name? \")\n",
        "# This line gets the user to input their first name.\n",
        "\n",
        "Last_Name = input(\"What is your last name? \")\n",
        "# This line gets the user to input their last name\n",
        "\n",
        "Age = input('What is your age? ')\n",
        "# This line gets the user to input their age\n",
        "\n",
        "Fav_Colour = input('What is your favourite colour? ')\n",
        "# This line asks the user to input their favorite color.\n",
        "\n",
        "Fav_Sport = input('What is your favourite sport? ')\n",
        "# This line demands that the user inputs the correct sport choice (soccer)\n",
        "\n",
        "Fav_Team = input('What is your favourite team? ')\n",
        "# This line confirms that the user inputs the correct favorite sports team (Man U)"
      ],
      "metadata": {
        "colab": {
          "base_uri": "https://localhost:8080/"
        },
        "id": "pdkL5wfQRa3A",
        "outputId": "2d36c701-0c8d-4275-afdf-ad7fb6fe709b"
      },
      "execution_count": 26,
      "outputs": [
        {
          "name": "stdout",
          "output_type": "stream",
          "text": [
            "What is your first name? Andrew\n",
            "What is your last name? Zhang\n",
            "What is your age? 17\n",
            "What is your favourite colour? Blue\n",
            "What is your favourite sport? Dunno\n",
            "What is your favourite team? Unsure\n"
          ]
        }
      ]
    },
    {
      "cell_type": "code",
      "source": [
        "print(First_Name)\n",
        "print(Last_Name)\n",
        "print(Age)\n",
        "print(Fav_Colour)\n",
        "print(Fav_Sport)\n",
        "print(Fav_Team)"
      ],
      "metadata": {
        "id": "SxxnPO5HWHVI"
      },
      "execution_count": null,
      "outputs": []
    },
    {
      "cell_type": "markdown",
      "source": [
        "# F-String Formatting"
      ],
      "metadata": {
        "id": "ax53-YOcVwxo"
      }
    },
    {
      "cell_type": "code",
      "source": [
        "print(f\"User first name is, {First_Name}, last name is, {Last_Name}, age is, {Age},\\\n",
        " favourite colour is, {Fav_Colour}, favourite sport is, {Fav_Sport}, favourite team is, {Fav_Team}\")\n",
        "# These lines print the previously inputted information in order to display them in sequence via the \"f\"."
      ],
      "metadata": {
        "colab": {
          "base_uri": "https://localhost:8080/"
        },
        "id": "4voo_wTfXCiv",
        "outputId": "9691d9f3-dd92-4f94-a6f5-3e649101d3ca"
      },
      "execution_count": 27,
      "outputs": [
        {
          "output_type": "stream",
          "name": "stdout",
          "text": [
            "User first name is, Andrew, last name is, Zhang, age is, 17, favourite colour is, Blue, favourite sport is, Dunno, favourite team is, Unsure\n"
          ]
        }
      ]
    }
  ]
}