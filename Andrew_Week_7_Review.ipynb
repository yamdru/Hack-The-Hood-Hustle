{
  "nbformat": 4,
  "nbformat_minor": 0,
  "metadata": {
    "colab": {
      "provenance": [],
      "authorship_tag": "ABX9TyPMBllylCyj2nycoLglsgoa",
      "include_colab_link": true
    },
    "kernelspec": {
      "name": "python3",
      "display_name": "Python 3"
    },
    "language_info": {
      "name": "python"
    }
  },
  "cells": [
    {
      "cell_type": "markdown",
      "metadata": {
        "id": "view-in-github",
        "colab_type": "text"
      },
      "source": [
        "<a href=\"https://colab.research.google.com/github/yamdru/Hack-The-Hood-Hustle/blob/main/Andrew_Week_7_Review.ipynb\" target=\"_parent\"><img src=\"https://colab.research.google.com/assets/colab-badge.svg\" alt=\"Open In Colab\"/></a>"
      ]
    },
    {
      "cell_type": "markdown",
      "source": [
        "# Inputs"
      ],
      "metadata": {
        "id": "enHfh8fTZQAt"
      }
    },
    {
      "cell_type": "code",
      "execution_count": 12,
      "metadata": {
        "colab": {
          "base_uri": "https://localhost:8080/"
        },
        "id": "JERPj3nlSoby",
        "outputId": "5c371104-051d-4b4e-ab91-26cb26825af8"
      },
      "outputs": [
        {
          "output_type": "stream",
          "name": "stdout",
          "text": [
            "Please type your name: andrew\n",
            "andrew\n",
            "Please type your school GPA: 2\n",
            "2.0\n",
            "Please choose a number from 1 - 10: 2\n",
            "2\n",
            "Do you like pancakes? yes\n",
            "True\n",
            "What is your favorite animal: Cat\n",
            "Cat\n",
            "Please choose a number from 1 - 10: 3\n",
            "Please choose another number from 1 - 10: 5\n",
            "Your numbers add up to 8\n"
          ]
        }
      ],
      "source": [
        "#1 Create and print a variable that contains a name using the `input()` function\n",
        "\n",
        "name = input(\"Please type your name: \")\n",
        "print(name)\n",
        "\n",
        "#2 Create and print a variable that contains a float using the `input()` function\n",
        "\n",
        "gpa = float(input(\"Please type your school GPA: \"))\n",
        "print(gpa)\n",
        "\n",
        "#3 Create and print a variable that contains an integer using the `input()` function\n",
        "\n",
        "number = int(input(\"Please choose a number from 1 - 10: \"))\n",
        "print(number)\n",
        "\n",
        "#4 Create and print a variable that contains a boolean using the `input()` function\n",
        "\n",
        "pancakes_opinion = bool(input(\"Do you like pancakes? \"))\n",
        "print(pancakes_opinion)\n",
        "\n",
        "#5 Create and print a variable that contains a string using the `input()` function\n",
        "\n",
        "favorite_animal = str(input(\"What is your favorite animal: \"))\n",
        "print(favorite_animal)\n",
        "\n",
        "#6 Create and print a variable that contains an integer using the `input()` function\n",
        "# and add it to another variable integer\n",
        "\n",
        "number_one = int(input(\"Please choose a number from 1 - 10: \"))\n",
        "number_two = int(input(\"Please choose another number from 1 - 10: \"))\n",
        "numbers_sum = number_one + number_two\n",
        "print(f\"Your numbers add up to {numbers_sum}\")"
      ]
    },
    {
      "cell_type": "markdown",
      "source": [
        "# Conditionals\n",
        "\n",
        "##( statements ---> if that statement is true, note that there's a colon (:) at\n",
        "the end,  and if has statements, but else does not, the lines after are indented)\n",
        ")\n",
        "\n",
        "if:\n",
        "  (w/e code you want)\n",
        "elif:\n",
        "  (always after if, w/e code you want)\n",
        "else:\n",
        "  (catch all phrase)"
      ],
      "metadata": {
        "id": "eM9FqlBwZUGO"
      }
    },
    {
      "cell_type": "code",
      "source": [
        "# Voting Eligibility Checker\n",
        "\n",
        "# Step 1: Ask the user to enter their age\n",
        "\n",
        "user_age = int(input(\"Please enter your age: \"))\n",
        "\n",
        "# Step 2: Check if the age is 18 or older\n",
        "\n",
        "#Step 2.1\n",
        "# If the age is 18 or older, print that the user can vote\n",
        "\n",
        "if user_age >= 18:\n",
        "  print(\"You are eligible to vote!\")\n",
        "elif user_age + 2 >= 18:\n",
        "  print(\"You will be able to vote in two years!\")\n",
        "else:\n",
        "  print(\"You are not eligible to vote!\")\n",
        "\n",
        "#Step 2.2\n",
        "#Elif the user will be 18 in two years, tell them they can vote in two years\n",
        "\n",
        "#Step 2.3\n",
        "#reminder else\n",
        "    # If the age is less than 18, print that the user cannot vote yet"
      ],
      "metadata": {
        "colab": {
          "base_uri": "https://localhost:8080/"
        },
        "id": "5vV-9Kj4Z1kE",
        "outputId": "9c935dcc-4240-4eba-a197-9ab8d49f7206"
      },
      "execution_count": 15,
      "outputs": [
        {
          "output_type": "stream",
          "name": "stdout",
          "text": [
            "Please enter your age: 16\n",
            "You will be able to vote in two years!\n"
          ]
        }
      ]
    },
    {
      "cell_type": "markdown",
      "source": [
        "## Guess the Number Activity"
      ],
      "metadata": {
        "id": "e7-YHfD2fQzb"
      }
    },
    {
      "cell_type": "code",
      "source": [
        "#Andrew (the computer) chose a secret_number\n",
        "secret_number = 8\n",
        "#Andrew (aka the computer): Tell the user to guess a number (guess_number)\n",
        "\n",
        "guess_number = int(input(\"Please guess a number from 1 - 10: \"))\n",
        "\n",
        "#Samuel (the user):gave a number\n",
        "#IF the number wasn't right, Andrew (the computer) said no\n",
        "# Samuel (the user): guessed again\n",
        "#Andrew (the computer), when he did give the right answer said 'yes'\n",
        "\n",
        "#Write your else/if statement:\n",
        "\n",
        "# if guess_number == secret_number:\n",
        "#   print(\"You guessed the secret number!\")\n",
        "# else:\n",
        "#   print(\"Please try again.\")\n",
        "\n",
        "while guess_number != secret_number:\n",
        "  if guess_number == secret_number:\n",
        "    print(\"That is the correct number.\")\n",
        "  else:\n",
        "    print(\"That is not the secret number. \")\n",
        "    guess_number = int(input(\"Please guess another number: \"))\n",
        "print(\"You guessed the secret number! \")"
      ],
      "metadata": {
        "colab": {
          "base_uri": "https://localhost:8080/"
        },
        "id": "Mj69XwzHfTz3",
        "outputId": "ac8b5c36-e698-4c82-91a5-b1c6bac058b2"
      },
      "execution_count": 22,
      "outputs": [
        {
          "output_type": "stream",
          "name": "stdout",
          "text": [
            "Please guess a number from 1 - 10: 8\n",
            "You guessed the secret number! \n"
          ]
        }
      ]
    },
    {
      "cell_type": "markdown",
      "source": [
        "# Functions\n",
        "\n",
        "What is a function?\n",
        "\n",
        "Functions in Python are resuable blocks of code that performs specific tasks.\n",
        "They can take inputs and give outputs.\n",
        "\n",
        "What is the syntax to create a function?\n",
        "\n",
        "the \"def\" key shows something is being defined as a function\n",
        "then the function name (in snake case)\n",
        "ending with a colon (:) and indented lines of code\n",
        "\n",
        "What are parameters / arguments?\n",
        "\n",
        "Variables listed inside of the paranthesis. Can have multiple.\n",
        "\n",
        "What is the syntax to call a function?\n",
        "\n",
        "Function name, then paranthesis. If there is an argument, place\n",
        "it inside the paranthesis."
      ],
      "metadata": {
        "id": "-mM3tDTgiYSt"
      }
    },
    {
      "cell_type": "code",
      "source": [
        "#Write a greeting function.\n",
        "\n",
        "def my_greeting():\n",
        "  print(\"Hello world!\")\n",
        "my_greeting()"
      ],
      "metadata": {
        "colab": {
          "base_uri": "https://localhost:8080/"
        },
        "id": "TZjVtVDzicrT",
        "outputId": "94bb1fc9-f175-4753-a39c-32633cf628ed"
      },
      "execution_count": 28,
      "outputs": [
        {
          "output_type": "stream",
          "name": "stdout",
          "text": [
            "Hello world!\n"
          ]
        }
      ]
    },
    {
      "cell_type": "code",
      "source": [
        "#Write a greeting function but add the argument name.\n",
        "\n",
        "def my_name_greeting(name):\n",
        "  print(f\"Hello there {name}\")\n",
        "\n",
        "my_name_greeting(\"Andrew\")"
      ],
      "metadata": {
        "colab": {
          "base_uri": "https://localhost:8080/"
        },
        "id": "y7_e6Aslknf9",
        "outputId": "10fd66ba-cab1-4e19-c210-5b2dc7b69ca7"
      },
      "execution_count": 35,
      "outputs": [
        {
          "output_type": "stream",
          "name": "stdout",
          "text": [
            "Hello there andrew\n"
          ]
        }
      ]
    },
    {
      "cell_type": "code",
      "source": [
        "## Write a greeting function that takes in a list of student names and individually\n",
        "# greets each name\n",
        "\n",
        "class_A = ['Yoline', 'Samuel', 'Andrew']\n",
        "def greet_student(roster):\n",
        "  for student in roster:\n",
        "    print(f\"Hello there {student}\")\n",
        "\n",
        "greet_student(class_A)\n",
        "\n",
        "class_B = [\"Stanley\", \"Ivan\", \"Ethan\"]\n",
        "greet_student(class_B)"
      ],
      "metadata": {
        "colab": {
          "base_uri": "https://localhost:8080/"
        },
        "id": "jd6bHQTgltJa",
        "outputId": "e606bbbe-3ec1-4fd3-b6ea-cd5cfc327890"
      },
      "execution_count": 37,
      "outputs": [
        {
          "output_type": "stream",
          "name": "stdout",
          "text": [
            "Hello there Yoline\n",
            "Hello there Samuel\n",
            "Hello there Andrew\n",
            "Hello there Stanley\n",
            "Hello there Ivan\n",
            "Hello there Ethan\n"
          ]
        }
      ]
    }
  ]
}