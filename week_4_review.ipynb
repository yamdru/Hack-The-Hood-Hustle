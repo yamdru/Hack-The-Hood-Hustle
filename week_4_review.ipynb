{
  "nbformat": 4,
  "nbformat_minor": 0,
  "metadata": {
    "colab": {
      "provenance": [],
      "collapsed_sections": [
        "mH2SV-VzKKk-",
        "gFVlxDycQ98K"
      ],
      "authorship_tag": "ABX9TyNfgkwD3OL9UAk570Zk3LR+",
      "include_colab_link": true
    },
    "kernelspec": {
      "name": "python3",
      "display_name": "Python 3"
    },
    "language_info": {
      "name": "python"
    }
  },
  "cells": [
    {
      "cell_type": "markdown",
      "metadata": {
        "id": "view-in-github",
        "colab_type": "text"
      },
      "source": [
        "<a href=\"https://colab.research.google.com/github/yamdru/Hack-The-Hood-Hustle/blob/main/week_4_review.ipynb\" target=\"_parent\"><img src=\"https://colab.research.google.com/assets/colab-badge.svg\" alt=\"Open In Colab\"/></a>"
      ]
    },
    {
      "cell_type": "markdown",
      "source": [
        "# Lists"
      ],
      "metadata": {
        "id": "mH2SV-VzKKk-"
      }
    },
    {
      "cell_type": "code",
      "source": [
        "# 1. Create a list and then print it, making sure to give it a descriptive variable name:\n",
        "\n",
        "favorite_animals = [\"sharks\", \"cats\", \"fish\"]\n",
        "\n",
        "print(favorite_animals)"
      ],
      "metadata": {
        "colab": {
          "base_uri": "https://localhost:8080/"
        },
        "id": "2n-J0jJqKk8P",
        "outputId": "488175bb-2760-423d-8e69-10757511bcec"
      },
      "execution_count": 2,
      "outputs": [
        {
          "output_type": "stream",
          "name": "stdout",
          "text": [
            "['sharks', 'cats', 'fish']\n"
          ]
        }
      ]
    },
    {
      "cell_type": "code",
      "source": [
        "# 2. Index practice with this list\n",
        "\n",
        "rainbow_colors = ['red', 'orange', 'yellow', 'green', 'blue', 'indigo', 'violet']\n",
        "\n",
        "# 2a. Print the third color through indexing\n",
        "\n",
        "print(rainbow_colors[2])\n",
        "\n",
        "# 2b. Print the last color through indexing\n",
        "\n",
        "print(rainbow_colors[6])\n",
        "print(rainbow_colors[-1])\n",
        "\n",
        "# 2c. Print the first three colors through indexing\n",
        "\n",
        "print(rainbow_colors[0:3])\n",
        "\n",
        "# 2d. Print the last three colors through indexing\n",
        "\n",
        "print(rainbow_colors[4:7])\n",
        "\n",
        "# 2d. Set up the print statement so the output is: green  violet  orange\n",
        "\n",
        "print(rainbow_colors[3],rainbow_colors[-1],rainbow_colors[1])\n",
        "\n",
        "\n",
        "fruits = [\n",
        "    \"Apple\", \"Banana\", \"Orange\", \"Grape\", \"Pineapple\",\n",
        "    \"Strawberry\", \"Blueberry\", \"Raspberry\", \"Mango\", \"Peach\",\n",
        "    \"Cherry\", \"Watermelon\", \"Cantaloupe\", \"Honeydew\", \"Kiwi\",\n",
        "    \"Papaya\", \"Plum\", \"Pomegranate\", \"Lychee\", \"Dragonfruit\",\n",
        "    \"Passionfruit\", \"Fig\", \"Guava\"\n",
        "]\n",
        "\n",
        "#3 Print out the following statement by indexing\n",
        "# and concatenating the elements of list to be:\n",
        "# \"I would like to buy Passionfruit, Fig, and Guava\"\n",
        "\n",
        "print(\"I would like to buy \" + fruits[-3] + \", \" + fruits[-2] + \", and \" + fruits[-1])\n",
        "\n",
        "# Print out the length of the fruits list\n",
        "print(len(fruits))"
      ],
      "metadata": {
        "colab": {
          "base_uri": "https://localhost:8080/"
        },
        "id": "GWn5fa_pKwx2",
        "outputId": "0defaf87-ea41-438f-a429-d514dbe81061"
      },
      "execution_count": 35,
      "outputs": [
        {
          "output_type": "stream",
          "name": "stdout",
          "text": [
            "yellow\n",
            "violet\n",
            "violet\n",
            "['red', 'orange', 'yellow']\n",
            "['blue', 'indigo', 'violet']\n",
            "green violet orange\n",
            "I would like to buy Passionfruit, Fig, and Guava\n",
            "23\n"
          ]
        }
      ]
    },
    {
      "cell_type": "markdown",
      "source": [
        "# Inputs"
      ],
      "metadata": {
        "id": "gFVlxDycQ98K"
      }
    },
    {
      "cell_type": "code",
      "source": [
        "# Step 2: Get the user's age as input and convert it to an integer\n",
        "\n",
        "user_age = int(input(\"What is your age: \"))\n",
        "\n",
        "print(\"You are \" + str(user_age) + \" years old!\")\n",
        "\n",
        "# Step 3: Calculate the user's age in 5 years\n",
        "\n",
        "future_age = user_age + 5\n",
        "\n",
        "print(\"You will be \" + str(future_age) + \" years old in 5 years.\")\n",
        "\n",
        "# Step 5: Introduce f-strings for cleaner output\n",
        "\n",
        "print(f\"Hello! You are {user_age} years old.\")\n",
        "print(f\"Congratulations! You will be {future_age} years old in 5 years.\")"
      ],
      "metadata": {
        "colab": {
          "base_uri": "https://localhost:8080/"
        },
        "id": "Oj6ubfSgTOs1",
        "outputId": "3c63970c-696b-4235-d86d-47ca445fde69"
      },
      "execution_count": 56,
      "outputs": [
        {
          "output_type": "stream",
          "name": "stdout",
          "text": [
            "What is your age: 15\n",
            "You are 15 years old!\n",
            "You will be 20 years old in 5 years.\n",
            "Hello! You are 15 years old.\n",
            "Congratulations! You will be 20 years old in 5 years.\n"
          ]
        }
      ]
    },
    {
      "cell_type": "markdown",
      "source": [
        "# Conditionals With Operators"
      ],
      "metadata": {
        "id": "kqfRzhsHaTKd"
      }
    },
    {
      "cell_type": "code",
      "source": [
        "# Step 1 + 2: Simple if statement with arithmetic operators\n",
        "age = int(input(\"Please enter your age: \"))\n",
        "\n",
        "age_in_4_years = age + 4\n",
        "\n",
        "if age_in_4_years >= 18:\n",
        "  print(\"Please vote!\")\n",
        "else:\n",
        "  print(\"You are too young to vote.\")"
      ],
      "metadata": {
        "colab": {
          "base_uri": "https://localhost:8080/"
        },
        "id": "3CNlb-FXaXG5",
        "outputId": "8457a970-8ae7-445f-87e1-32507eaf9ec2"
      },
      "execution_count": 59,
      "outputs": [
        {
          "output_type": "stream",
          "name": "stdout",
          "text": [
            "Please enter your age: 1\n",
            "You are too young to vote.\n"
          ]
        }
      ]
    },
    {
      "cell_type": "code",
      "source": [
        "# Step 3: Using membership operators to check membership in a list\n",
        "fruit_craving = input(\"What fruit would you like to buy: \")\n",
        "fruits_store = [\"apple\", \"banana\", \"orange\", \"grape\", \"pineapple\"]\n",
        "\n",
        "if fruit_craving.lower() in fruits_store:\n",
        "  print(f\"{fruit_craving.capitalize()} is in the store!\")\n",
        "else:\n",
        "  print(f\"{fruit_craving.capitalize()} is not in the store.\")"
      ],
      "metadata": {
        "colab": {
          "base_uri": "https://localhost:8080/"
        },
        "id": "kg6NkuqocjZf",
        "outputId": "054869cf-f392-40f0-c87c-4ebc0718db42"
      },
      "execution_count": 67,
      "outputs": [
        {
          "output_type": "stream",
          "name": "stdout",
          "text": [
            "What fruit would you like to buy: Apple\n",
            "Apple is in the store!\n"
          ]
        }
      ]
    }
  ]
}