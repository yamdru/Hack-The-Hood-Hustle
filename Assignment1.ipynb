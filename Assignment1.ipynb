{
  "nbformat": 4,
  "nbformat_minor": 0,
  "metadata": {
    "colab": {
      "provenance": [],
      "authorship_tag": "ABX9TyOLcKB2wXHqvUC8nQvQVZAr",
      "include_colab_link": true
    },
    "kernelspec": {
      "name": "python3",
      "display_name": "Python 3"
    },
    "language_info": {
      "name": "python"
    }
  },
  "cells": [
    {
      "cell_type": "markdown",
      "metadata": {
        "id": "view-in-github",
        "colab_type": "text"
      },
      "source": [
        "<a href=\"https://colab.research.google.com/github/yamdru/Hack-The-Hood-Hustle/blob/main/Assignment1.ipynb\" target=\"_parent\"><img src=\"https://colab.research.google.com/assets/colab-badge.svg\" alt=\"Open In Colab\"/></a>"
      ]
    },
    {
      "cell_type": "code",
      "execution_count": 4,
      "metadata": {
        "id": "c5GRCX2H6-DR"
      },
      "outputs": [],
      "source": [
        "# Andrew Zhang, Tiger Team Teal, Tuesday 1 - 3pm."
      ]
    },
    {
      "cell_type": "code",
      "source": [
        "# My instructor is Yoline."
      ],
      "metadata": {
        "id": "tANohRI47ZR6"
      },
      "execution_count": 6,
      "outputs": []
    },
    {
      "cell_type": "code",
      "source": [
        "# My Github: https://github.com/yamdru"
      ],
      "metadata": {
        "id": "suwZ2gt-7kOJ"
      },
      "execution_count": 8,
      "outputs": []
    }
  ]
}