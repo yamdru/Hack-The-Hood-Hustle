{
  "nbformat": 4,
  "nbformat_minor": 0,
  "metadata": {
    "colab": {
      "provenance": [],
      "collapsed_sections": [
        "oR6N4mHeKGVD",
        "Bx43fzIWO9Q0",
        "43mWuFTuR1au"
      ],
      "authorship_tag": "ABX9TyPN8baiwcZAmtjoky2svFTG",
      "include_colab_link": true
    },
    "kernelspec": {
      "name": "python3",
      "display_name": "Python 3"
    },
    "language_info": {
      "name": "python"
    }
  },
  "cells": [
    {
      "cell_type": "markdown",
      "metadata": {
        "id": "view-in-github",
        "colab_type": "text"
      },
      "source": [
        "<a href=\"https://colab.research.google.com/github/yamdru/Hack-The-Hood-Hustle/blob/main/Andrew_Week_5_Review.ipynb\" target=\"_parent\"><img src=\"https://colab.research.google.com/assets/colab-badge.svg\" alt=\"Open In Colab\"/></a>"
      ]
    },
    {
      "cell_type": "code",
      "execution_count": 1,
      "metadata": {
        "id": "HIcmQK_hJNHp"
      },
      "outputs": [],
      "source": [
        "# Pseudo Code\n",
        "\n",
        "# This file will review previous concepts.\n",
        "# The review will include lists, indexing, if/elsif/else, conditionals, then loops."
      ]
    },
    {
      "cell_type": "markdown",
      "source": [
        "# Data Types Review"
      ],
      "metadata": {
        "id": "oR6N4mHeKGVD"
      }
    },
    {
      "cell_type": "markdown",
      "source": [
        "Data Types"
      ],
      "metadata": {
        "id": "9gkudrr8KMib"
      }
    },
    {
      "cell_type": "code",
      "source": [
        "# Make an integer variable and print it\n",
        "\n",
        "age = 17\n",
        "print(age)\n",
        "\n",
        " # Make a string variable and print it\n",
        "\n",
        "morning_message = \"Good Morning!\"\n",
        "print(morning_message)\n",
        "\n",
        " # Make a two different boolean variables and print them\n",
        "\n",
        "# I don't understand.\n",
        "\n",
        " # Make a float variable and print it\n",
        "\n",
        "cookies = 3.5\n",
        "print(cookies)\n",
        "\n",
        " # Add two integers and print it\n",
        "\n",
        "a = 3\n",
        "b = 4\n",
        "sum = a+b\n",
        "print(sum)\n",
        "\n",
        " # Subtract two floats and print it\n",
        "\n",
        "c = 8.75\n",
        "d = 4.2\n",
        "difference = c-d\n",
        "print(difference)\n",
        "\n",
        " # Put two strings together\n",
        "\n",
        "evening_message = \"Good Evening!\"\n",
        "greeting_message = \"How are you?\"\n",
        "print(evening_message + \" Good to see you. \" + greeting_message)"
      ],
      "metadata": {
        "colab": {
          "base_uri": "https://localhost:8080/"
        },
        "id": "OzJvXY98KZ-C",
        "outputId": "f2bae837-b48e-4d7e-a90d-e6bef5fcca5c"
      },
      "execution_count": 26,
      "outputs": [
        {
          "output_type": "stream",
          "name": "stdout",
          "text": [
            "17\n",
            "Good Morning!\n",
            "3.5\n",
            "7\n",
            "4.55\n",
            "Good Evening! Good to see you. How are you?\n"
          ]
        }
      ]
    },
    {
      "cell_type": "markdown",
      "source": [
        "# Lists"
      ],
      "metadata": {
        "id": "Bx43fzIWO9Q0"
      }
    },
    {
      "cell_type": "code",
      "source": [
        "# 1. Create a list and then print it, making sure to give it a descriptive variable name:\n",
        "\n",
        "tasty_fruits = [\"Raspberry\", \"Strawberry\", \"Watermelon\"]\n",
        "print(tasty_fruits[1])\n",
        "\n",
        "# 2. Index practice with this list\n",
        "\n",
        "colors = [\"red\", \"orange\", \"yellow\", \"green\", \"blue\", \"violet\"]\n",
        "\n",
        "# 2a. Print the third color through indexing\n",
        "\n",
        "print(colors[2])\n",
        "\n",
        "# 2b. Print the last color through indexing\n",
        "\n",
        "print(colors[5])\n",
        "\n",
        "# 2c. Print the first three colors through indexing\n",
        "\n",
        "print(colors[0:3])\n",
        "\n",
        "# 2d. Set up the print statement so the output is: green  violet  orange\n",
        "\n",
        "print(colors[3], colors[5], colors[1])\n"
      ],
      "metadata": {
        "colab": {
          "base_uri": "https://localhost:8080/"
        },
        "id": "H3rxqst_PCKA",
        "outputId": "f0eecff6-22ed-42ab-b6fb-49daa28f2490"
      },
      "execution_count": 25,
      "outputs": [
        {
          "output_type": "stream",
          "name": "stdout",
          "text": [
            "Strawberry\n",
            "yellow\n",
            "violet\n",
            "['red', 'orange', 'yellow']\n",
            "green violet orange\n"
          ]
        }
      ]
    },
    {
      "cell_type": "markdown",
      "source": [
        "# Conditionals"
      ],
      "metadata": {
        "id": "43mWuFTuR1au"
      }
    },
    {
      "cell_type": "code",
      "source": [
        "# Step 1: Simple if statement with arithmetic operators.\n",
        "# Step 2: Use else and elseif statements.\n",
        "\n",
        "age = 16\n",
        "\n",
        "if age >= 18:\n",
        "  print(\"You can vote.\")\n",
        "elif age + 4 >= 18:\n",
        "  print(\"You will be eligible to vote in 4 years.\")\n",
        "else:\n",
        "  print(\"You are not eligible to vote.\")"
      ],
      "metadata": {
        "colab": {
          "base_uri": "https://localhost:8080/"
        },
        "id": "cTZ4SWsBR2W3",
        "outputId": "6e91f7ee-8254-4adf-c6aa-9490fa0efb77"
      },
      "execution_count": 34,
      "outputs": [
        {
          "output_type": "stream",
          "name": "stdout",
          "text": [
            "You will be eligible to vote in 4 years.\n"
          ]
        }
      ]
    },
    {
      "cell_type": "code",
      "source": [
        "  # Step 3: Membership check.\n",
        "  buy_fruit = input(\"What fruit would you like? \")\n",
        "\n",
        "  fruits = [\"apple\", \"banana\", \"orange\", \"grape\", \"pineapple\"]\n",
        "\n",
        "  if buy_fruit.lower() in fruits:\n",
        "    print(f\"{buy_fruit.capitalize()} is in stock!\")\n",
        "  else:\n",
        "    print(f\"{buy_fruit.capitalize()} is not in stock. :(\")"
      ],
      "metadata": {
        "colab": {
          "base_uri": "https://localhost:8080/"
        },
        "id": "7ig804VMT4ip",
        "outputId": "4c1623b0-b084-433d-9f58-95c97b8c7867"
      },
      "execution_count": 41,
      "outputs": [
        {
          "output_type": "stream",
          "name": "stdout",
          "text": [
            "What fruit would you like? apple\n",
            "Apple is in stock!\n"
          ]
        }
      ]
    },
    {
      "cell_type": "code",
      "source": [
        " # Step 4: Logical Operators\n",
        "  # Mini Step 4.0: Handling Yes or No Input with Truthy or Falsey Outcome\n",
        "# We will get a yes or no input from the user and convert it to a boolean value\n",
        "\n",
        "# Get input from the user\n",
        "\n",
        "response_permission = input(\"Do you have your field trip form? \").lower()\n",
        "\n",
        "response_honor_student = input(\"Are you a honor student? \").lower()\n",
        "\n",
        "has_permission = (response_permission == \"yes\")\n",
        "\n",
        "has_honor = (response_honor_student == \"yes\")\n",
        "\n",
        "if has_permission and has_honor:\n",
        "  print(\"You can go on the field trip!\")\n",
        "elif has_permission or has_honor:\n",
        "  print(\"You are missing one criteria, please ask the teacher!\")\n",
        "else:\n",
        "  print(\"You may not go on the field trip.\")"
      ],
      "metadata": {
        "colab": {
          "base_uri": "https://localhost:8080/"
        },
        "id": "fpBA0el0V9MW",
        "outputId": "9d2177f3-db1a-4370-95cb-db57609efbdd"
      },
      "execution_count": 52,
      "outputs": [
        {
          "output_type": "stream",
          "name": "stdout",
          "text": [
            "Do you have your field trip form? yes\n",
            "Are you a honor student? yes\n",
            "You can go on the field trip!\n"
          ]
        }
      ]
    },
    {
      "cell_type": "markdown",
      "source": [
        "# Loops"
      ],
      "metadata": {
        "id": "2wfg6if0cBrx"
      }
    },
    {
      "cell_type": "code",
      "source": [
        "# While loop\n",
        "\n",
        "current_hour = 0\n",
        "\n",
        "while current_hour <= 24:\n",
        "  print(f\"The time is {current_hour} o' clock\")\n",
        "  current_hour += 1\n",
        "\n",
        "print(\"You are done with the day.\")"
      ],
      "metadata": {
        "colab": {
          "base_uri": "https://localhost:8080/"
        },
        "id": "nQ_9GUWycYFD",
        "outputId": "03595bb9-d4cd-42e5-a458-46641fcf73ea"
      },
      "execution_count": 58,
      "outputs": [
        {
          "output_type": "stream",
          "name": "stdout",
          "text": [
            "The time is 0 o' clock\n",
            "The time is 1 o' clock\n",
            "The time is 2 o' clock\n",
            "The time is 3 o' clock\n",
            "The time is 4 o' clock\n",
            "The time is 5 o' clock\n",
            "The time is 6 o' clock\n",
            "The time is 7 o' clock\n",
            "The time is 8 o' clock\n",
            "The time is 9 o' clock\n",
            "The time is 10 o' clock\n",
            "The time is 11 o' clock\n",
            "The time is 12 o' clock\n",
            "The time is 13 o' clock\n",
            "The time is 14 o' clock\n",
            "The time is 15 o' clock\n",
            "The time is 16 o' clock\n",
            "The time is 17 o' clock\n",
            "The time is 18 o' clock\n",
            "The time is 19 o' clock\n",
            "The time is 20 o' clock\n",
            "The time is 21 o' clock\n",
            "The time is 22 o' clock\n",
            "The time is 23 o' clock\n",
            "The time is 24 o' clock\n",
            "You are done with the day.\n"
          ]
        }
      ]
    },
    {
      "cell_type": "code",
      "source": [
        "# For Loops\n",
        "\n",
        "zoo = [\"Elephant\", \"Giraffe\", \"Zebra\", \"Lion\", \"Kangaroo\"]\n",
        "for zoo_animals in zoo:\n",
        "  print(\"The zoo has a\", zoo_animals)\n",
        "\n",
        "# For Loops with Range\n",
        "zoo_size = len(zoo)\n",
        "for index_num in range(zoo_size):\n",
        "  print(index_num)\n",
        "  print(zoo[index_num])\n",
        "  print(f\"Welcome to space # {index_num + 1}! Here, we have {zoo[index_num]}s!\")"
      ],
      "metadata": {
        "colab": {
          "base_uri": "https://localhost:8080/"
        },
        "id": "kr1fJU__dmxs",
        "outputId": "ae506f8c-f7e4-49b9-ec4d-85304c5ae4ed"
      },
      "execution_count": 63,
      "outputs": [
        {
          "output_type": "stream",
          "name": "stdout",
          "text": [
            "The zoo has a Elephant\n",
            "The zoo has a Giraffe\n",
            "The zoo has a Zebra\n",
            "The zoo has a Lion\n",
            "The zoo has a Kangaroo\n",
            "0\n",
            "Elephant\n",
            "Welcome to space # 1! Here, we have Elephants!\n",
            "1\n",
            "Giraffe\n",
            "Welcome to space # 2! Here, we have Giraffes!\n",
            "2\n",
            "Zebra\n",
            "Welcome to space # 3! Here, we have Zebras!\n",
            "3\n",
            "Lion\n",
            "Welcome to space # 4! Here, we have Lions!\n",
            "4\n",
            "Kangaroo\n",
            "Welcome to space # 5! Here, we have Kangaroos!\n"
          ]
        }
      ]
    }
  ]
}